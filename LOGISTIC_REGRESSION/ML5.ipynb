{
 "cells": [
  {
   "cell_type": "code",
   "execution_count": 1,
   "metadata": {},
   "outputs": [],
   "source": [
    "import numpy as np\n",
    "from sklearn import linear_model, datasets, tree\n",
    "import matplotlib.pyplot as plt\n",
    "%matplotlib inline"
   ]
  },
  {
   "cell_type": "code",
   "execution_count": 2,
   "metadata": {},
   "outputs": [
    {
     "data": {
      "image/png": "[encoded data removed]",
      "text/plain": [
       "<Figure size 432x288 with 1 Axes>"
      ]
     },
     "metadata": {
      "needs_background": "light"
     },
     "output_type": "display_data"
    }
   ],
   "source": [
    "iris = datasets.load_iris()\n",
    "X = iris.data[:,:2] #Choosing only the first two input-features\n",
    "Y = iris.target\n",
    "#The first 50 samples are class 0 and the next 50 samples are class 1\n",
    "X = X[:100]\n",
    "Y = Y[:100]\n",
    "number_of_samples = len(Y)\n",
    "#Splitting into training, validation and test sets\n",
    "random_indices = np.random.permutation(number_of_samples)\n",
    "#Training set\n",
    "num_training_samples = int(number_of_samples*0.7)\n",
    "x_train = X[random_indices[:num_training_samples]]\n",
    "y_train = Y[random_indices[:num_training_samples]]\n",
    "#Validation set\n",
    "num_validation_samples = int(number_of_samples*0.15)\n",
    "x_val = X[random_indices[num_training_samples : num_training_samples+num_validation_samples]]\n",
    "y_val = Y[random_indices[num_training_samples: num_training_samples+num_validation_samples]]\n",
    "#Test set\n",
    "num_test_samples = int(number_of_samples*0.15)\n",
    "x_test = X[random_indices[-num_test_samples:]]\n",
    "y_test = Y[random_indices[-num_test_samples:]]\n",
    "\n",
    "#Visualizing the training data\n",
    "X_class0 = np.asarray([x_train[i] for i in range(len(x_train)) if y_train[i]==0]) #Picking only the first two classes\n",
    "Y_class0 = np.zeros((X_class0.shape[0]),dtype=np.int)\n",
    "X_class1 = np.asarray([x_train[i] for i in range(len(x_train)) if y_train[i]==1])\n",
    "Y_class1 = np.ones((X_class1.shape[0]),dtype=np.int)\n",
    "\n",
    "plt.scatter(X_class0[:,0], X_class0[:,1],color='red')\n",
    "plt.scatter(X_class1[:,0], X_class1[:,1],color='blue')\n",
    "plt.xlabel('sepal length')\n",
    "plt.ylabel('sepal width')\n",
    "plt.legend(['class 0','class 1'])\n",
    "plt.title('Fig 3: Visualization of training data')\n",
    "plt.show()"
   ]
  },
  {
   "cell_type": "code",
   "execution_count": 9,
   "metadata": {},
   "outputs": [],
   "source": [
    "model = linear_model.LogisticRegression(C=1e5)#C is the inverse of the regularization factor\n",
    "full_X = np.concatenate((X_class0,X_class1),axis=0)\n",
    "full_Y = np.concatenate((Y_class0,Y_class1),axis=0)\n",
    "model.fit(full_X,full_Y)\n",
    "\n",
    "\n",
    "\n",
    "h = .02  # step size in the mesh\n",
    "x_min, x_max = full_X[:, 0].min() - .5, full_X[:, 0].max() + .5\n",
    "y_min, y_max = full_X[:, 1].min() - .5, full_X[:, 1].max() + .5\n",
    "xx, yy = np.meshgrid(np.arange(x_min, x_max, h), np.arange(y_min, y_max, h))\n",
    "Z = model.predict(np.c_[xx.ravel(), yy.ravel()]) \n",
    "# Put the result into a color plot\n",
    "Z = Z.reshape(xx.shape)\n"
   ]
  },
  {
   "cell_type": "code",
   "execution_count": 10,
   "metadata": {},
   "outputs": [
    {
     "name": "stdout",
     "output_type": "stream",
     "text": [
      "validation misclassification percentage = 0.0 %\n",
      "test misclassification percentage = 0.0 %\n"
     ]
    }
   ],
   "source": [
    "validation_set_predictions = [model.predict(x_val[i].reshape((1,2)))[0] for i in range(x_val.shape[0])]\n",
    "validation_misclassification_percentage = 0\n",
    "for i in range(len(validation_set_predictions)):\n",
    "    if validation_set_predictions[i]!=y_val[i]:\n",
    "        validation_misclassification_percentage+=1\n",
    "validation_misclassification_percentage *= 100/len(y_val)\n",
    "print('validation misclassification percentage =', validation_misclassification_percentage, '%')\n",
    "\n",
    "test_set_predictions = [model.predict(x_test[i].reshape((1,2)))[0] for i in range(x_test.shape[0])]\n",
    "\n",
    "test_misclassification_percentage = 0\n",
    "for i in range(len(test_set_predictions)):\n",
    "    if test_set_predictions[i]!=y_test[i]:\n",
    "        test_misclassification_percentage+=1\n",
    "test_misclassification_percentage *= 100/len(y_test)\n",
    "print('test misclassification percentage =', test_misclassification_percentage, '%')\n"
   ]
  },
  {
   "cell_type": "code",
   "execution_count": null,
   "metadata": {},
   "outputs": [],
   "source": []
  }
 ],
 "metadata": {
  "kernelspec": {
   "display_name": "Python 3",
   "language": "python",
   "name": "python3"
  },
  "language_info": {
   "codemirror_mode": {
    "name": "ipython",
    "version": 3
   },
   "file_extension": ".py",
   "mimetype": "text/x-python",
   "name": "python",
   "nbconvert_exporter": "python",
   "pygments_lexer": "ipython3",
   "version": "3.8.5"
  }
 },
 "nbformat": 4,
 "nbformat_minor": 2
}
