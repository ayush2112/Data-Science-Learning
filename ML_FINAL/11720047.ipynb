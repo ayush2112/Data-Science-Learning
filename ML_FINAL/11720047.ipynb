{
 "cells": [
  {
   "cell_type": "code",
   "execution_count": 4,
   "metadata": {},
   "outputs": [],
   "source": [
    "import numpy as np\n",
    "import pandas as pd"
   ]
  },
  {
   "cell_type": "code",
   "execution_count": 2,
   "metadata": {},
   "outputs": [],
   "source": [
    "class NaiveBayes:\n",
    "    def __init__(self, X, y):\n",
    "        _, self.num_features = X.shape\n",
    "        self.num_classes = len(np.unique(y))\n",
    "    \n",
    "    def fit(self, X, y):\n",
    "        self.classes_mean = {}\n",
    "        self.classes_variance = {}\n",
    "        self.classes_prior = {}\n",
    "        \n",
    "        for c in range(self.num_classes):\n",
    "            X_c = X[y == c]\n",
    "            self.classes_mean[str(c)] = np.mean(X_c, axis = 0)\n",
    "            self.classes_variance[str(c)] = np.var(X_c, axis = 0)\n",
    "            self.classes_prior[str(c)] = X_c.shape[0] / X.shape[0]\n",
    "    \n",
    "    def predict(self, X):\n",
    "        probs = np.zeros((X.shape[0], self.num_classes))\n",
    "        for c in range(self.num_classes):\n",
    "            prior = self.classes_prior[str(c)]\n",
    "            probs_c = self.density_function(\n",
    "                X, self.classes_mean[str(c)], self.classes_variance[str(c)])\n",
    "            probs[:, c] = probs_c + np.log(prior)\n",
    "        return np.argmax(probs, axis = 1)\n",
    "    \n",
    "    def density_function(self, x, mean, sigma):\n",
    "        const = -self.num_features / 2 * np.log(2 * np.pi) - 0.5 * np.sum(np.log(sigma))\n",
    "        probs = 0.5 * np.sum(np.power(x - mean, 2) / sigma, axis = 1)\n",
    "        return const - probs\n",
    "        "
   ]
  },
  {
   "cell_type": "code",
   "execution_count": 3,
   "metadata": {},
   "outputs": [
    {
     "name": "stdout",
     "output_type": "stream",
     "text": [
      "Accuracy : 0.5394736842105263\n"
     ]
    },
    {
     "name": "stderr",
     "output_type": "stream",
     "text": [
      "/home/ayush/.local/lib/python3.8/site-packages/numpy/core/fromnumeric.py:3334: RuntimeWarning: Mean of empty slice.\n",
      "  return _methods._mean(a, axis=axis, dtype=dtype,\n",
      "/home/ayush/.local/lib/python3.8/site-packages/numpy/core/_methods.py:153: RuntimeWarning: invalid value encountered in true_divide\n",
      "  ret = um.true_divide(\n",
      "/home/ayush/.local/lib/python3.8/site-packages/numpy/core/fromnumeric.py:3583: RuntimeWarning: Degrees of freedom <= 0 for slice\n",
      "  return _methods._var(a, axis=axis, dtype=dtype, out=out, ddof=ddof,\n",
      "/home/ayush/.local/lib/python3.8/site-packages/numpy/core/_methods.py:185: RuntimeWarning: invalid value encountered in true_divide\n",
      "  arrmean = um.true_divide(\n",
      "/home/ayush/.local/lib/python3.8/site-packages/numpy/core/_methods.py:206: RuntimeWarning: invalid value encountered in true_divide\n",
      "  ret = um.true_divide(\n",
      "<ipython-input-2-4458391ece7a>:23: RuntimeWarning: divide by zero encountered in log\n",
      "  probs[:, c] = probs_c + np.log(prior)\n"
     ]
    }
   ],
   "source": [
    "if __name__ == '__main__':\n",
    "    data = np.genfromtxt('Data_CS_2.csv', delimiter = ',')\n",
    "    X, y = data[:, : data.shape[1] - 1], data[:, data.shape[1] - 1]\n",
    "    NB = NaiveBayes(X, y)\n",
    "    NB.fit(X, y)\n",
    "    y_pred = NB.predict(X)\n",
    "    print(f'Final Accuracy is : {sum(y_pred == y) / X.shape[0]}')"
   ]
  },
  {
   "cell_type": "code",
   "execution_count": null,
   "metadata": {},
   "outputs": [],
   "source": []
  }
 ],
 "metadata": {
  "kernelspec": {
   "display_name": "Python 3",
   "language": "python",
   "name": "python3"
  },
  "language_info": {
   "codemirror_mode": {
    "name": "ipython",
    "version": 3
   },
   "file_extension": ".py",
   "mimetype": "text/x-python",
   "name": "python",
   "nbconvert_exporter": "python",
   "pygments_lexer": "ipython3",
   "version": "3.8.5"
  }
 },
 "nbformat": 4,
 "nbformat_minor": 4
}
