{
 "cells": [
  {
   "cell_type": "code",
   "execution_count": 1,
   "metadata": {},
   "outputs": [],
   "source": [
    "import numpy as np"
   ]
  },
  {
   "cell_type": "code",
   "execution_count": 2,
   "metadata": {},
   "outputs": [],
   "source": [
    "class KMeans:\n",
    "    def __init__(self, k):\n",
    "        self.k = k\n",
    "    \n",
    "    def fit(self, X):\n",
    "        n = X.shape[1]\n",
    "        self.k_cent = X[0: self.k]\n",
    "        while True:\n",
    "            k_cnt = np.zeros(self.k, int)\n",
    "            k_update_cent = np.zeros((self.k, n))\n",
    "            for x in X:\n",
    "                idx = np.argmin(((self.k_cent - x) ** 2).sum(axis = 1) ** 0.5)\n",
    "                k_cnt[idx] += 1\n",
    "                k_update_cent[idx] += x\n",
    "            k_cnt = np.where(k_cnt == 0, 1, k_cnt)\n",
    "            for i in range(self.k):\n",
    "                if k_cnt[i] == 0:\n",
    "                    continue\n",
    "                k_update_cent[i] = k_update_cent[i] / k_cnt[i]\n",
    "            if np.all(self.k_cent == k_update_cent):\n",
    "                break\n",
    "            self.k_cent = k_update_cent\n",
    "    \n",
    "    def predict(self, X):\n",
    "        pred = []\n",
    "        for x in X:\n",
    "            idx = np.argmin(((self.k_cent - x) ** 2).sum(axis = 1) ** 0.5)\n",
    "            pred.append(idx)\n",
    "        return np.array(pred)"
   ]
  },
  {
   "cell_type": "code",
   "execution_count": 3,
   "metadata": {},
   "outputs": [
    {
     "name": "stdout",
     "output_type": "stream",
     "text": [
      "[1 1 1 1 1 1 1 1 1 1 1 1 1 1 1 1 1 1 1 1 1 1 1 1 1 1 1 1 1 1 1 1 1 1 1 1 1\n",
      " 1 1 1 1 1 1 1 1 1 1 1 1 1 0 0 0 0 0 0 0 0 0 0 0 0 0 0 0 0 0 0 0 0 0 0 0 0\n",
      " 0 0 0 0 0 0 0 0 0 0 0 0 0 0 0 0 0 0 0 0 0 0 0 0 0 0]\n"
     ]
    }
   ],
   "source": [
    "X = np.genfromtxt('100.csv', delimiter = ',')\n",
    "\n",
    "kmeans_2 = KMeans(2)\n",
    "kmeans_2.fit(X)\n",
    "print(kmeans_2.predict(X))\n"
   ]
  },
  {
   "cell_type": "code",
   "execution_count": 5,
   "metadata": {},
   "outputs": [
    {
     "name": "stdout",
     "output_type": "stream",
     "text": [
      "[0 1 0 1]\n"
     ]
    }
   ],
   "source": [
    "X1 = np.genfromtxt('rectangle.csv', delimiter = ',')\n",
    "kmeans_2 = KMeans(2)\n",
    "kmeans_2.fit(X1)\n",
    "print(kmeans_2.predict(X1))"
   ]
  },
  {
   "cell_type": "code",
   "execution_count": 6,
   "metadata": {},
   "outputs": [
    {
     "name": "stdout",
     "output_type": "stream",
     "text": [
      "[1 1 2 2 1 1 2 1 2 2 1 1 2 2 1 2 1 2 2 1 2 1 1 1 2 1 1 2 2 1 1 1 1 1 2 2 2\n",
      " 1 2 1 2 2 1 1 1 1 1 1 1 1 0 0 0 0 0 0 0 0 0 0 0 0 0 0 0 0 0 0 0 0 0 0 0 0\n",
      " 0 0 0 0 0 0 0 0 0 0 0 0 0 0 0 0 0 0 0 0 0 0 0 0 0 0]\n"
     ]
    }
   ],
   "source": [
    "X = np.genfromtxt('100.csv', delimiter = ',')\n",
    "\n",
    "kmeans_2 = KMeans(3)\n",
    "kmeans_2.fit(X)\n",
    "print(kmeans_2.predict(X))"
   ]
  },
  {
   "cell_type": "code",
   "execution_count": 7,
   "metadata": {},
   "outputs": [
    {
     "name": "stdout",
     "output_type": "stream",
     "text": [
      "[0 1 2 3 0 0 0 1 3 3 1 0 3 2 0 2 1 3 0 1 3 1 3 0 2 0 1 3 0 0 0 0 1 0 3 3 3\n",
      " 1 3 1 0 3 3 0 3 0 0 0 0 0 4 4 4 4 4 4 4 4 4 4 4 4 4 4 4 4 4 4 4 4 4 4 4 4\n",
      " 4 4 4 4 4 4 4 4 4 4 4 4 4 4 4 4 4 4 4 4 4 4 4 4 4 4]\n"
     ]
    }
   ],
   "source": [
    "X = np.genfromtxt('100.csv', delimiter = ',')\n",
    "\n",
    "kmeans_2 = KMeans(5)\n",
    "kmeans_2.fit(X)\n",
    "print(kmeans_2.predict(X))"
   ]
  },
  {
   "cell_type": "code",
   "execution_count": null,
   "metadata": {},
   "outputs": [],
   "source": []
  }
 ],
 "metadata": {
  "kernelspec": {
   "display_name": "Python 3",
   "language": "python",
   "name": "python3"
  },
  "language_info": {
   "codemirror_mode": {
    "name": "ipython",
    "version": 3
   },
   "file_extension": ".py",
   "mimetype": "text/x-python",
   "name": "python",
   "nbconvert_exporter": "python",
   "pygments_lexer": "ipython3",
   "version": "3.8.5"
  }
 },
 "nbformat": 4,
 "nbformat_minor": 4
}
